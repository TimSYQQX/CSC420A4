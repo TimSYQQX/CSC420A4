{
 "cells": [
  {
   "cell_type": "markdown",
   "metadata": {},
   "source": [
    "<h2>Question 1<\\h2>\n",
    "<h4>The reason<\\h4>"
   ]
  },
  {
   "cell_type": "code",
   "execution_count": 13,
   "metadata": {},
   "outputs": [
    {
     "name": "stdout",
     "output_type": "stream",
     "text": [
      "Using matplotlib backend: agg\n",
      "Populating the interactive namespace from numpy and matplotlib\n"
     ]
    },
    {
     "name": "stderr",
     "output_type": "stream",
     "text": [
      "/home/xiongti1/anaconda3/envs/cv2/lib/python3.7/site-packages/IPython/core/magics/pylab.py:160: UserWarning: pylab import has clobbered these variables: ['product', 'correlate', 'f']\n",
      "`%matplotlib` prevents importing * from pylab and numpy\n",
      "  \"\\n`%matplotlib` prevents importing * from pylab and numpy\"\n"
     ]
    }
   ],
   "source": [
    "%pylab"
   ]
  },
  {
   "cell_type": "code",
   "execution_count": 14,
   "metadata": {},
   "outputs": [],
   "source": [
    "import cv2\n",
    "from helper import *\n",
    "from itertools import product\n",
    "from tqdm import tqdm\n",
    "from numba import jit"
   ]
  },
  {
   "cell_type": "code",
   "execution_count": 15,
   "metadata": {},
   "outputs": [
    {
     "name": "stdout",
     "output_type": "stream",
     "text": [
      "685.05 181.43 804.68 258.21 721.5377 609.5593 172.854 0.5327119288\n"
     ]
    }
   ],
   "source": [
    "left = cv2.imread(\"A4_files/000020_left.jpg\").astype(float)/255\n",
    "right = cv2.imread(\"A4_files/000020_right.jpg\").astype(float)/255\n",
    "with open(\"A4_files/000020.txt\") as file:\n",
    "    x_min, y_min, x_max, y_max = [float(i) for i in file.read().split()[1:]]\n",
    "with open(\"A4_files/000020_allcalib.txt\") as file:\n",
    "    f, px, py, baseline = [float(i) for i in file.read().split()[1::2]]\n",
    "print(x_min, y_min, x_max, y_max, f, px, py, baseline)"
   ]
  },
  {
   "cell_type": "code",
   "execution_count": 16,
   "metadata": {},
   "outputs": [
    {
     "data": {
      "text/plain": [
       "<matplotlib.image.AxesImage at 0x7f3b6b68b450>"
      ]
     },
     "execution_count": 16,
     "metadata": {},
     "output_type": "execute_result"
    }
   ],
   "source": [
    "patchsize = 5\n",
    "imshow(left)"
   ]
  },
  {
   "cell_type": "code",
   "execution_count": 17,
   "metadata": {},
   "outputs": [
    {
     "data": {
      "text/plain": [
       "<matplotlib.image.AxesImage at 0x7f3b6b74cb50>"
      ]
     },
     "execution_count": 17,
     "metadata": {},
     "output_type": "execute_result"
    }
   ],
   "source": [
    "tar = left[int(y_min):int(y_max), int(x_min):int(x_max)]\n",
    "tar = np.pad(tar, [[patchsize//2, patchsize//2], [patchsize//2, patchsize//2], [0, 0]])\n",
    "imshow(tar)"
   ]
  },
  {
   "cell_type": "markdown",
   "metadata": {},
   "source": [
    "### Q2\n",
    "a. I am using SSD for this part"
   ]
  },
  {
   "cell_type": "code",
   "execution_count": 18,
   "metadata": {},
   "outputs": [],
   "source": [
    "@jit(nopython=True, fastmath=True)\n",
    "def SSD(patch1, patch2):\n",
    "    return np.sum((patch1 - patch2)**2)\n",
    "\n",
    "@jit(nopython=True, fastmath=True)\n",
    "def NC(patch1, patch2):\n",
    "    return np.sum(patch1*patch2)/np.sqrt(np.sum(patch1**2))/np.sqrt(np.sum(patch2**2))\n",
    "\n",
    "@jit(nopython=True)\n",
    "def rowler(patch, imgr, row_idx):\n",
    "    patchsize = patch.shape[0]\n",
    "    row = imgr[row_idx:row_idx+patchsize]\n",
    "    ssd_list = []\n",
    "    for i in range(row.shape[1]-patchsize+1):\n",
    "        ssd_list.append(NC(patch, imgr[row_idx:row_idx+patchsize, i:i+patchsize]))\n",
    "    return np.array(ssd_list).T\n",
    "\n",
    "@jit(nopython=True)\n",
    "def disparity(imgl, imgr, y_l, x_l, patch_size, y_min):\n",
    "    patch = imgl[y_l:y_l+patch_size, x_l:x_l+patch_size]\n",
    "    row_idx = y_l\n",
    "    ssd_list = rowler(patch, imgr, row_idx)\n",
    "    x_r = ssd_list.argmax()\n",
    "    return x_l - x_r \n",
    "\n",
    "@jit(nopython=True, parallel=True)\n",
    "def img_disp(imgl, imgr, patch_size, x_min, y_min, x_max, y_max):\n",
    "    dy = y_max - y_min\n",
    "    dx = x_max - x_min\n",
    "    new_img = np.zeros((dy-patch_size+1, dx-patch_size+1))\n",
    "    for y in range(y_min, y_max-patch_size+1):\n",
    "        for x in range(x_min, x_max-patch_size+1):\n",
    "            new_img[y - y_min, x - x_min] = disparity(imgl, imgr, y, x, patch_size, y_min)\n",
    "    return new_img"
   ]
  },
  {
   "cell_type": "code",
   "execution_count": 19,
   "metadata": {},
   "outputs": [],
   "source": [
    "imgl = left\n",
    "imgr = right\n",
    "patch_size = 5\n",
    "\n",
    "new_img = img_disp(imgl, imgr, patch_size, int(x_min), int(y_min), int(x_max), int(y_max))"
   ]
  },
  {
   "cell_type": "code",
   "execution_count": 20,
   "metadata": {},
   "outputs": [
    {
     "data": {
      "text/plain": [
       "<matplotlib.colorbar.Colorbar at 0x7f3b4f799790>"
      ]
     },
     "execution_count": 20,
     "metadata": {},
     "output_type": "execute_result"
    }
   ],
   "source": [
    "imshow(new_img, cmap=\"jet\")\n",
    "colorbar()"
   ]
  },
  {
   "cell_type": "code",
   "execution_count": 21,
   "metadata": {},
   "outputs": [
    {
     "name": "stderr",
     "output_type": "stream",
     "text": [
      "/home/xiongti1/anaconda3/envs/cv2/lib/python3.7/site-packages/ipykernel_launcher.py:1: RuntimeWarning: divide by zero encountered in true_divide\n",
      "  \"\"\"Entry point for launching an IPython kernel.\n"
     ]
    },
    {
     "data": {
      "text/plain": [
       "<matplotlib.colorbar.Colorbar at 0x7f3b6b5f9d90>"
      ]
     },
     "execution_count": 21,
     "metadata": {},
     "output_type": "execute_result"
    }
   ],
   "source": [
    "imshow(f*baseline/new_img, cmap=\"jet\")\n",
    "colorbar()"
   ]
  },
  {
   "cell_type": "code",
   "execution_count": 22,
   "metadata": {},
   "outputs": [
    {
     "data": {
      "text/plain": [
       "0.9817363062135014"
      ]
     },
     "execution_count": 22,
     "metadata": {},
     "output_type": "execute_result"
    }
   ],
   "source": [
    "rowler(tar[50:55, 50:55], imgr, 50+int(y_min)).max()"
   ]
  },
  {
   "cell_type": "code",
   "execution_count": 23,
   "metadata": {},
   "outputs": [],
   "source": [
    "deeppruner_result = cv2.imread(\"DeepPruner_result.png\")"
   ]
  },
  {
   "cell_type": "code",
   "execution_count": 24,
   "metadata": {},
   "outputs": [
    {
     "data": {
      "text/plain": [
       "<matplotlib.image.AxesImage at 0x7f3b6ba6a710>"
      ]
     },
     "execution_count": 24,
     "metadata": {},
     "output_type": "execute_result"
    }
   ],
   "source": [
    "imshow(deeppruner_result[...,0], cmap=\"jet\")"
   ]
  },
  {
   "cell_type": "markdown",
   "metadata": {},
   "source": [
    "b. This Network has the following procedures:\n",
    "- Feature Extractor\n",
    "\n",
    "    The Feature Extractor create a pixel wide feature representation by downsampling networks. Creating a feature map that is 1/4 of the original input image size. \n",
    "    \n",
    "- Differentiable Patch Match\n",
    "    \n",
    "    The differentiable patch matching is achieved by using a PatchMatch-based prunner that predict a confidence range for each pixel and construct a sparse cost volume. \n",
    "    The prunning module can be show as follows:\n",
    "    1. Particle Sampling Layer:\n",
    "       \n",
    "       Generate disparity values for each pixel, from our search space. \n",
    "       \n",
    "    2. Propagation Layer:\n",
    "        \n",
    "        \n",
    "    \n",
    "    3. Evaluation Layer:\n",
    "\n",
    "- Confidence Range Prediction\n",
    "\n",
    "    The Confidence Range Prediction is achieved \n",
    "    \n",
    "    \n",
    "- 3D Cost Aggregation \n",
    "- Refinement"
   ]
  },
  {
   "cell_type": "markdown",
   "metadata": {},
   "source": [
    "### Q3"
   ]
  },
  {
   "cell_type": "code",
   "execution_count": 26,
   "metadata": {},
   "outputs": [],
   "source": [
    "I1 = cv2.imread(\"./I1.jpg\")\n",
    "I2 = cv2.imread(\"./I2.jpg\")\n",
    "I3 = cv2.imread(\"./I3.jpg\")"
   ]
  },
  {
   "cell_type": "code",
   "execution_count": null,
   "metadata": {},
   "outputs": [],
   "source": []
  }
 ],
 "metadata": {
  "kernelspec": {
   "display_name": "Python [conda env:cv2]",
   "language": "python",
   "name": "conda-env-cv2-py"
  },
  "language_info": {
   "codemirror_mode": {
    "name": "ipython",
    "version": 3
   },
   "file_extension": ".py",
   "mimetype": "text/x-python",
   "name": "python",
   "nbconvert_exporter": "python",
   "pygments_lexer": "ipython3",
   "version": "3.7.5"
  }
 },
 "nbformat": 4,
 "nbformat_minor": 4
}
